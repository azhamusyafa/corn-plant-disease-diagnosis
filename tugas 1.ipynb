{
  "cells": [
    {
      "cell_type": "code",
      "execution_count": 1,
      "id": "e5362e70-bc43-4459-8a41-0c8db930b201",
      "metadata": {
        "id": "e5362e70-bc43-4459-8a41-0c8db930b201"
      },
      "outputs": [],
      "source": [
        " diseases = {\n",
        "        'P001': 'Bulai',\n",
        "        'P002': 'Blight',\n",
        "        'P003': 'Leaf Rust',\n",
        "        'P004': 'Burn',\n",
        "        'P005': 'Stem Borer',\n",
        "        'P006': 'Cob Borer',\n",
        "        'ALL': 'Diagnosis semua penyakit'\n",
        "    }"
      ]
    },
    {
      "cell_type": "code",
      "execution_count": 2,
      "id": "659cd522-d69e-4c9a-a4c5-51c496b180f4",
      "metadata": {
        "id": "659cd522-d69e-4c9a-a4c5-51c496b180f4"
      },
      "outputs": [],
      "source": [
        "symptoms={\n",
        "    'G1':'Chlorotic Colored Leaves',\n",
        "    'G2':'Experiencing growth retardation',\n",
        "    'G3':'The white color is like flour on the upper and lower surfaces of the leaves which are chlorotic',\n",
        "    'G4':'Leaves curled and twisted',\n",
        "    'G5':'Impaired cob formation',\n",
        "    'G6':'Affected leaves look wilted ',\n",
        "    'G7':'Several small patches unite to form a larger spot',\n",
        "    'G8':'Elongated light brown patches in the shape of a coil or boat',\n",
        "    'G9':'Brown spots shaped like an ellipse',\n",
        "    'G10':'Leaves look dry',\n",
        "    'G11':'Small brown or yellow spots on the leaf surface',\n",
        "    'G12':'Red spots on the midrib',\n",
        "    'G13':'There are irregularly shaped threads that are white and then brown',\n",
        "    'G14':'Comes out powder like yellowish brown flour',\n",
        "    'G15':'Swelling of the cob',\n",
        "    'G16':'There is a white to black fungus on the seeds',\n",
        "    'G17':'Swollen seeds',\n",
        "    'G18':'Glands are formed in seeds',\n",
        "    'G19':'Kelobot opened and appeared a lot of white to black fungus',\n",
        "    'G20':'there is a small hole in the leaf',\n",
        "    'G21':'slits in stem',\n",
        "    'G22':'male flower or cob base',\n",
        "    'G23':'stems and tassels (male flowers) that break easily',\n",
        "    'G24':'stack of broken tassels',\n",
        "    'G25':'male flowers are not formed',\n",
        "    'G26':'there is flour/dirt around the hoist',\n",
        "    'G27':'slightly yellow leaves',\n",
        "    'G28':'transverse holes in the leaf in the vegetative stage',\n",
        "    'G29':'corncob hair cut / reduced /dry',\n",
        "    'G30':'the tip of the cob has a hoist',\n",
        "    'G31':'often there are larvae'\n",
        "}"
      ]
    },
    {
      "cell_type": "code",
      "execution_count": 3,
      "id": "c1450382-7c54-44b1-b06a-9399320e90f5",
      "metadata": {
        "id": "c1450382-7c54-44b1-b06a-9399320e90f5"
      },
      "outputs": [],
      "source": [
        "rules={\n",
        "    'P001':['G1','G2','G3','G4','G5'],\n",
        "    'P002':['G5','G6','G7','G8','G9','G10'],\n",
        "    'P003':['G10','G11','G12','G13','G14'],\n",
        "    'P004':['G15','G16','G17','G18','G19'],\n",
        "    'P005':['G20','G21','G22','G23','G24','G25','G26','G27'],\n",
        "    'P006':['G28','G29','G30','G31']\n",
        "}"
      ]
    },
    {
      "cell_type": "code",
      "source": [
        "    print(\"Penyakit mana yang ingin anda diagnosis (atau ketik 'ALL' untuk diagnosa semua penyakit):\")\n",
        "    for code, disease in diseases.items():\n",
        "        print(f\"{code}: {disease}\")\n",
        "\n",
        "    choice = input(\"Masukkan kode penyakit: \").upper()\n",
        "\n",
        "    if choice == 'ALL':\n",
        "        diagnosis = {}\n",
        "        for disease_code in rules:\n",
        "            user_symptoms = []\n",
        "            print(f\"\\nMendiagnosa {diseases[disease_code]}:\")\n",
        "            for symptom_code in rules[disease_code]:\n",
        "                response = input(f\"Apakah tumbuhan mengalami gejala ini: {symptoms[symptom_code]}? (1/2): \").strip()\n",
        "                if response == '1':\n",
        "                    user_symptoms.append(symptom_code)\n",
        "\n",
        "            if len(user_symptoms) > 1:\n",
        "                diagnosis[disease_code] = [symptoms[code] for code in user_symptoms]\n",
        "\n",
        "        if diagnosis:\n",
        "            print(\"\\nHasil diagnosa:\")\n",
        "            for disease_code, confirmed_symptoms in diagnosis.items():\n",
        "                print(f\"\\nTumbuhan kamu mungkin mengalami {diseases[disease_code]} berdasarkan gejala berikut:\")\n",
        "                for symptom in confirmed_symptoms:\n",
        "                    print(f\"  - {symptom}\")\n",
        "        else:\n",
        "            print(\"\\nTidak ada penyakit yang didiagnosis\")\n",
        "\n",
        "    elif choice in diseases and choice in rules:\n",
        "        print(f\"\\nAnda memilih {diseases[choice]}\")\n",
        "        print(\"Jawab dengan 1 untuk ya dan 2 untuk tidak:\")\n",
        "\n",
        "        user_symptoms = []\n",
        "        for symptom_code in rules[choice]:\n",
        "            response = input(f\"Apakah tumbuhan mengalami gejala ini: {symptoms[symptom_code]}? (1/2): \").strip()\n",
        "            if response == '1':\n",
        "                user_symptoms.append(symptom_code)\n",
        "\n",
        "        if len(user_symptoms) > 1:\n",
        "            print(f\"\\nTumbuhan kamu mungkin mengalami {diseases[choice]} berdasarkan gejala yang dialami:\")\n",
        "            for symptom_code in user_symptoms:\n",
        "                print(f\"  - {symptoms[symptom_code]}\")\n",
        "        else:\n",
        "            print(f\"\\nTumbuhan kamu mungkin tidak mengalami {diseases[choice]} karena gejala yang di konfirmasi kurang dari 2\")\n",
        "    else:\n",
        "        print(\"Pilihan tidak valid. Silakan coba lagi\")"
      ],
      "metadata": {
        "colab": {
          "base_uri": "https://localhost:8080/"
        },
        "id": "fsNx9OKfC1cF",
        "outputId": "bea6a17d-9a8f-4f54-8931-8528fdaf33c4"
      },
      "id": "fsNx9OKfC1cF",
      "execution_count": 4,
      "outputs": [
        {
          "output_type": "stream",
          "name": "stdout",
          "text": [
            "Penyakit mana yang ingin anda diagnosis (atau ketik 'ALL' untuk diagnosa semua penyakit):\n",
            "P001: Bulai\n",
            "P002: Blight\n",
            "P003: Leaf Rust\n",
            "P004: Burn\n",
            "P005: Stem Borer\n",
            "P006: Cob Borer\n",
            "ALL: Diagnosis semua penyakit\n",
            "Masukkan kode penyakit: p001\n",
            "\n",
            "Anda memilih Bulai\n",
            "Jawab dengan 1 untuk ya dan 2 untuk tidak:\n",
            "Apakah tumbuhan mengalami gejala ini: Chlorotic Colored Leaves? (1/2): 1\n",
            "Apakah tumbuhan mengalami gejala ini: Experiencing growth retardation? (1/2): 2\n",
            "Apakah tumbuhan mengalami gejala ini: The white color is like flour on the upper and lower surfaces of the leaves which are chlorotic? (1/2): 2\n",
            "Apakah tumbuhan mengalami gejala ini: Leaves curled and twisted? (1/2): 2\n",
            "Apakah tumbuhan mengalami gejala ini: Impaired cob formation? (1/2): 2\n",
            "\n",
            "Tumbuhan kamu mungkin tidak mengalami Bulai karena gejala yang di konfirmasi kurang dari 2.\n"
          ]
        }
      ]
    }
  ],
  "metadata": {
    "colab": {
      "provenance": []
    },
    "kernelspec": {
      "display_name": "Python 3 (ipykernel)",
      "language": "python",
      "name": "python3"
    },
    "language_info": {
      "codemirror_mode": {
        "name": "ipython",
        "version": 3
      },
      "file_extension": ".py",
      "mimetype": "text/x-python",
      "name": "python",
      "nbconvert_exporter": "python",
      "pygments_lexer": "ipython3",
      "version": "3.12.4"
    }
  },
  "nbformat": 4,
  "nbformat_minor": 5
}